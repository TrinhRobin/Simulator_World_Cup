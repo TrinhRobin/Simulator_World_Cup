{
 "cells": [
  {
   "cell_type": "code",
   "execution_count": 1,
   "metadata": {},
   "outputs": [
    {
     "name": "stderr",
     "output_type": "stream",
     "text": [
      "D:\\Anaconda\\lib\\site-packages\\pandas\\compat\\_optional.py:138: UserWarning: Pandas requires version '2.7.0' or newer of 'numexpr' (version '2.6.8' currently installed).\n",
      "  warnings.warn(msg, UserWarning)\n"
     ]
    }
   ],
   "source": [
    "#from bs4 import BeautifulSoup\n",
    "#from urllib.request import urlopen\n",
    "import requests\n",
    "from io import StringIO\n",
    "import csv\n",
    "import pandas as pd\n",
    "from itertools import product\n",
    "import seaborn as sns\n",
    "import numpy as np\n",
    "import time\n",
    "import matplotlib.pyplot as plt"
   ]
  },
  {
   "cell_type": "code",
   "execution_count": 2,
   "metadata": {},
   "outputs": [],
   "source": [
    "def feature_engineering(dataframe_elo_score,dataframe_game_results,date_bounds=['2018',\"2022-11-20\"],\n",
    "                        tournaments_list=['Friendly', 'FIFA World Cup qualification', 'UEFA Nations League',\n",
    "       'UEFA Euro qualification', 'African Cup of Nations qualification',\n",
    "       'CONCACAF Nations League', 'African Cup of Nations',\n",
    "       'African Nations Championship', 'COSAFA Cup',\n",
    "       'AFC Asian Cup qualification', 'Gold Cup', 'FIFA World Cup',\n",
    "       'Copa América', 'UEFA Euro', 'AFC Asian Cup',\n",
    "       'CONIFA World Football Cup', 'Island Games',\n",
    "       'CONCACAF Nations League qualification',\n",
    "       'African Nations Championship qualification', 'AFF Championship',\n",
    "       'CONIFA European Football Cup', 'CECAFA Cup', 'EAFF Championship',\n",
    "       'CFU Caribbean Cup qualification', 'SAFF Cup', 'Arab Cup', 'Gulf Cup',\n",
    "       'Pacific Games', 'Kirin Challenge Cup',\n",
    "       'Inter Games Football Tournament', 'Confederations Cup',\n",
    "       'Oceania Nations Cup', 'Pacific Mini Games', 'Intercontinental Cup',\n",
    "       'Baltic Cup', 'AFC Challenge Cup', \"King's Cup\",\n",
    "       'Gold Cup qualification', 'Windward Islands Tournament', 'UNCAF Cup']):\n",
    "    \"\"\"\n",
    "    Inputs : \n",
    "        dataframe_elo_score = pandas Dataframe with list of teams, their elo_score rating), rank, and various informations\n",
    "        dataframe_game_results = pandas Dataframe with results of games: Home Team, Away Team, Goal Home, Goal Away .... (from kaggle)\n",
    "    Output : we compute additional fatires,mainly the XG of each team, and add additional these features by merging the dataframes\n",
    "    \"\"\"\n",
    "    \n",
    "    #filter by date\n",
    "    dataframe_game_results2 =dataframe_game_results[(dataframe_game_results['date']>=date_bounds[0])\n",
    "                                                    &(dataframe_game_results['date']<date_bounds[1])]\n",
    "    #filtre tournois\n",
    "    dataframe_game_results2  = dataframe_game_results2[dataframe_game_results2['tournament'].isin(tournaments_list)]\n",
    "    \n",
    "    #We create all the couples Team A vs Team B :\n",
    "    df1 = dataframe_game_results2[['home_team','home_score']]\n",
    "    df1 = df1.rename(columns={'home_team':'team','home_score':'score'})\n",
    "    df2 = dataframe_game_results2[['away_team','away_score']]\n",
    "    df2= df2.rename(columns={'away_team':'team','away_score':'score'})\n",
    "\n",
    "    df_xg1 = pd.concat([df1,df2],axis=0)\n",
    "    df_xg1 =df_xg1.reset_index(drop=True)\n",
    "    df_xg1.isna().sum()\n",
    "    #drop na\n",
    "    df_xg1 = df_xg1.dropna()\n",
    "    #ou fillna(0)\n",
    "    df_xg1.isna().sum()\n",
    "    \n",
    "    df_extract = df_xg1.groupby('team').agg(score = ('score','mean'),\n",
    "                                             nb_match= ('score','count'))\n",
    "    #how=left\n",
    "    df_features =dataframe_elo_score.merge(df_extract ,how='inner',left_on='Team_Name',right_on='team')\n",
    "\n",
    "    df_couples = pd.DataFrame(list(product(dataframe_elo_score['Team_Name'], dataframe_elo_score['Team_Name'])),columns=['Team_A','Team_B'])\n",
    "    df_couples=df_couples[df_couples['Team_A']!= df_couples['Team_B']]\n",
    "    df_couples = df_couples.merge(df_features[['Rank_Team','Rating','Team_Name','score']],left_on='Team_A',right_on='Team_Name')\n",
    "    df_couples = df_couples.merge(df_features[['Rank_Team','Rating','Team_Name','score']],left_on='Team_B',right_on='Team_Name',suffixes=('_A', '_B'))\n",
    "    #suffixes=('_x', '_y')\n",
    "    df_couples=df_couples.drop( columns=['Team_Name_A','Team_Name_B'])\n",
    "    \n",
    "    df_couples['XG_difference'] = df_couples['score_A'] - df_couples['score_B']\n",
    "    df_couples['Rating_difference']=df_couples['Rating_A'] - df_couples['Rating_B']\n",
    "    return(df_couples)"
   ]
  },
  {
   "cell_type": "code",
   "execution_count": 3,
   "metadata": {},
   "outputs": [],
   "source": [
    "#Load data \n",
    "df_results = pd.read_csv(\"../data/results.csv\")\n",
    "df_elo = pd.read_csv(\"../data/elo_ratings_team.csv\", sep='\\t',index_col=0)\n",
    "df_elo =df_elo.replace({'United States\\tUSA':'United States'})\n",
    "df_test = feature_engineering(df_elo,df_results)"
   ]
  },
  {
   "cell_type": "code",
   "execution_count": 4,
   "metadata": {},
   "outputs": [
    {
     "data": {
      "text/html": [
       "<div>\n",
       "<style scoped>\n",
       "    .dataframe tbody tr th:only-of-type {\n",
       "        vertical-align: middle;\n",
       "    }\n",
       "\n",
       "    .dataframe tbody tr th {\n",
       "        vertical-align: top;\n",
       "    }\n",
       "\n",
       "    .dataframe thead th {\n",
       "        text-align: right;\n",
       "    }\n",
       "</style>\n",
       "<table border=\"1\" class=\"dataframe\">\n",
       "  <thead>\n",
       "    <tr style=\"text-align: right;\">\n",
       "      <th></th>\n",
       "      <th>Team_A</th>\n",
       "      <th>Team_B</th>\n",
       "      <th>Rank_Team_A</th>\n",
       "      <th>Rating_A</th>\n",
       "      <th>score_A</th>\n",
       "      <th>Rank_Team_B</th>\n",
       "      <th>Rating_B</th>\n",
       "      <th>score_B</th>\n",
       "      <th>XG_difference</th>\n",
       "      <th>Rating_difference</th>\n",
       "    </tr>\n",
       "  </thead>\n",
       "  <tbody>\n",
       "    <tr>\n",
       "      <th>0</th>\n",
       "      <td>Brazil</td>\n",
       "      <td>Argentina</td>\n",
       "      <td>1</td>\n",
       "      <td>2169</td>\n",
       "      <td>2.228070</td>\n",
       "      <td>2</td>\n",
       "      <td>2143</td>\n",
       "      <td>1.981481</td>\n",
       "      <td>0.246589</td>\n",
       "      <td>26</td>\n",
       "    </tr>\n",
       "    <tr>\n",
       "      <th>1</th>\n",
       "      <td>Spain</td>\n",
       "      <td>Argentina</td>\n",
       "      <td>3</td>\n",
       "      <td>2048</td>\n",
       "      <td>2.220339</td>\n",
       "      <td>2</td>\n",
       "      <td>2143</td>\n",
       "      <td>1.981481</td>\n",
       "      <td>0.238858</td>\n",
       "      <td>-95</td>\n",
       "    </tr>\n",
       "    <tr>\n",
       "      <th>2</th>\n",
       "      <td>Netherlands</td>\n",
       "      <td>Argentina</td>\n",
       "      <td>4</td>\n",
       "      <td>2040</td>\n",
       "      <td>2.230769</td>\n",
       "      <td>2</td>\n",
       "      <td>2143</td>\n",
       "      <td>1.981481</td>\n",
       "      <td>0.249288</td>\n",
       "      <td>-103</td>\n",
       "    </tr>\n",
       "    <tr>\n",
       "      <th>3</th>\n",
       "      <td>Belgium</td>\n",
       "      <td>Argentina</td>\n",
       "      <td>5</td>\n",
       "      <td>2007</td>\n",
       "      <td>2.557377</td>\n",
       "      <td>2</td>\n",
       "      <td>2143</td>\n",
       "      <td>1.981481</td>\n",
       "      <td>0.575896</td>\n",
       "      <td>-136</td>\n",
       "    </tr>\n",
       "    <tr>\n",
       "      <th>4</th>\n",
       "      <td>Portugal</td>\n",
       "      <td>Argentina</td>\n",
       "      <td>6</td>\n",
       "      <td>2006</td>\n",
       "      <td>2.086207</td>\n",
       "      <td>2</td>\n",
       "      <td>2143</td>\n",
       "      <td>1.981481</td>\n",
       "      <td>0.104725</td>\n",
       "      <td>-137</td>\n",
       "    </tr>\n",
       "  </tbody>\n",
       "</table>\n",
       "</div>"
      ],
      "text/plain": [
       "        Team_A     Team_B  Rank_Team_A  Rating_A   score_A  Rank_Team_B  \\\n",
       "0       Brazil  Argentina            1      2169  2.228070            2   \n",
       "1        Spain  Argentina            3      2048  2.220339            2   \n",
       "2  Netherlands  Argentina            4      2040  2.230769            2   \n",
       "3      Belgium  Argentina            5      2007  2.557377            2   \n",
       "4     Portugal  Argentina            6      2006  2.086207            2   \n",
       "\n",
       "   Rating_B   score_B  XG_difference  Rating_difference  \n",
       "0      2143  1.981481       0.246589                 26  \n",
       "1      2143  1.981481       0.238858                -95  \n",
       "2      2143  1.981481       0.249288               -103  \n",
       "3      2143  1.981481       0.575896               -136  \n",
       "4      2143  1.981481       0.104725               -137  "
      ]
     },
     "execution_count": 4,
     "metadata": {},
     "output_type": "execute_result"
    }
   ],
   "source": [
    "df_test.head()"
   ]
  },
  {
   "cell_type": "code",
   "execution_count": 5,
   "metadata": {},
   "outputs": [
    {
     "data": {
      "image/png": "[encoded data removed]",
      "text/plain": [
       "<Figure size 432x288 with 1 Axes>"
      ]
     },
     "metadata": {},
     "output_type": "display_data"
    }
   ],
   "source": [
    "with sns.axes_style(\"whitegrid\"):\n",
    "    ax = sns.scatterplot(data=df_test,x='Rating_difference',y='XG_difference')\n",
    "\n",
    "    scatterplot=sns.regplot(data=df_test,x='Rating_difference',y='XG_difference', scatter=False, ax=ax)\n",
    "    fig = scatterplot.get_figure() \n",
    "    #fig.savefig(\"XG_diff_vs_rating_diff.png\") "
   ]
  },
  {
   "cell_type": "code",
   "execution_count": 6,
   "metadata": {},
   "outputs": [
    {
     "name": "stdout",
     "output_type": "stream",
     "text": [
      "p = 0.0135863\n",
      "The null hypothesis cannot be rejected\n"
     ]
    }
   ],
   "source": [
    "##Normality test\n",
    "from scipy import stats\n",
    "elo_diff = df_test.loc[(df_test['Team_A']=='Brazil')\n",
    "                             &(df_test['Team_B']=='Ecuador'),'Rating_difference'].values\n",
    "\n",
    "x  = df_test.loc[(df_test['Rating_difference']<=max(0,elo_diff[0]))&\n",
    "                (df_test['Rating_difference']>=min(0,elo_diff[0])),'XG_difference']\n",
    "k2, p = stats.normaltest(x)\n",
    "\n",
    "alpha = 1e-3\n",
    "\n",
    "print(\"p = {:g}\".format(p))\n",
    "\n",
    "if p < alpha:  # null hypothesis: x comes from a normal distribution\n",
    "\n",
    "    print(\"The null hypothesis can be rejected\")\n",
    "\n",
    "else:\n",
    "\n",
    "    print(\"The null hypothesis cannot be rejected\")"
   ]
  },
  {
   "cell_type": "code",
   "execution_count": 7,
   "metadata": {},
   "outputs": [],
   "source": [
    "##Utilities Functions\n",
    "\n",
    "def compute_XG_diff_mean_std(dataframe,equipe1,equipe2,bound=0.25):\n",
    "    \"\"\"\n",
    "    Computing the XG difference between equipe1 and equipe2\n",
    "    By sampling mean and standard deviation from a subset of dataframe\n",
    "    (Hypothesis : The XG_differences between teams with about the same elo ratings follow a normal law)\n",
    "    \"\"\"\n",
    "    if equipe1 == equipe2:\n",
    "        return(\"Error : same team\")\n",
    "    elo_diff = dataframe.loc[(dataframe['Team_A']==equipe1)\n",
    "                             &(dataframe['Team_B']==equipe2),'Rating_difference'].values\n",
    "    #Predict XG_difference :\n",
    "    #mean = model.predict(elo_diff.reshape(-1, 1) \n",
    "    #changer interval autour duquel on sample XG_difference\n",
    "    #print(elo_diff)\n",
    "    sample = dataframe.loc[(dataframe['Rating_difference']<=max(elo_diff[0]*(1+bound),elo_diff[0]*(1-bound)))&\n",
    "                      ( dataframe['Rating_difference']>=min(elo_diff[0]*(1+bound),elo_diff[0]*(1-bound))),'XG_difference']\n",
    "    mean = sample.mean()\n",
    "    variance  =sample.std()\n",
    "    #print(mean,variance)\n",
    "    return(mean,variance)\n",
    "\n",
    "#Ajouter champ meilleur joeur, XG_meilleur_joueur et blessure \n",
    "#A chaque match on tire au hasard un dé pour savir si reisque de blessure\n",
    "#si oui on retire les XG joueur au XG_equipe\n",
    "class Team:\n",
    "    def __init__(self, team_name,XG ,elo_ranking):\n",
    "            self.name = team_name\n",
    "            self.xg = XG\n",
    "            self.elo_ranking = elo_ranking\n",
    "            self.results = {\"Win\":0,\"Draw\":0,\"Loss\":0,\"Goals\":0,\"Goals_Against\":0,\"Points\":0}\n",
    "    def __str__(self):\n",
    "        return(f\"Team {self.name}: \\n XG : {self.xg} \\n ELO Ranking : {self.elo_ranking} \\n Current Results : {self.results}\")\n",
    "\n",
    "#rajouter champa data ou fonction compute ? \n",
    "class Match:\n",
    "    def __init__(self, team_A, team_B,dataframe, is_round_robin,N_samples=1000):\n",
    "        self.team_A = team_A\n",
    "        self.team_B = team_B\n",
    "        res = compute_XG_diff_mean_std(dataframe, team_A.name, team_B.name,bound=0.25)\n",
    "       # print(res)\n",
    "        self.diff_xg_mean , self.diff_xg_std = res[0],res[1]\n",
    "        self.is_round_robin = is_round_robin\n",
    "        self.winner = None\n",
    "        #probabilities of W/D/L\n",
    "        self.results = [0,0,0]\n",
    "        self.simulate_match(N_samples)\n",
    "\n",
    "    def simulate_match(self,N_samples):\n",
    "        #Computing Elo Ranking difference\n",
    "        #Predict XG_difference :\n",
    "        #do multiple sampling?\n",
    "        XG_difference = np.random.normal(loc=self.diff_xg_mean, scale=self.diff_xg_std)\n",
    "        #print(XG_difference)\n",
    "        #changing Xg_difference by  weighting more recent matchs and select only ranking teams accordingly_adversaries\n",
    "        new_XG_team_A, new_XG_team_B =max(0,self.team_A.xg+XG_difference/2),max(0,self.team_B.xg-XG_difference/2)\n",
    "        \n",
    "        #Simulate 100000 matchs :\n",
    "        simul_results =[[np.random.poisson(new_XG_team_A), np.random.poisson(new_XG_team_B)]for i in range(N_samples)]\n",
    "    \n",
    "        self.results = [np.mean([ score[0]>score[1] for score in simul_results]), \n",
    "                        np.mean([ score[0]==score[1] for score in simul_results]),\n",
    "                       np.mean([ score[0]<score[1] for score in simul_results]) ]\n",
    "       # print(   self.results)\n",
    "        \n",
    "        if np.argmax(self.results)== 0:\n",
    "            if self.is_round_robin :\n",
    "                self.team_A.results[\"Points\"]+=3\n",
    "                self.team_B.results[\"Points\"]+=0\n",
    "            self.team_A.results[\"Win\"]+=1\n",
    "            self.team_B.results['Loss']+=1\n",
    "            self.winner = self.team_A\n",
    "            \n",
    "        elif np.argmax(self.results)== 2:\n",
    "            if self.is_round_robin :\n",
    "                self.team_A.results[\"Points\"]+=0\n",
    "                self.team_B.results[\"Points\"]+=3\n",
    "            self.team_A.results[\"Loss\"]+=1\n",
    "            self.team_B.results['Win']+=1\n",
    "            self.winner = self.team_B\n",
    "        else :\n",
    "            if self.is_round_robin :\n",
    "                self.team_A.results[\"Points\"]+=1\n",
    "                self.team_B.results[\"Points\"]+=1\n",
    "            elif not self.is_round_robin :\n",
    "                ##Penaltuy shoothout \n",
    "                self.winner = np.random.choice([self.team_A,self.team_B])\n",
    "            self.team_A.results[\"Draw\"]+=1\n",
    "            self.team_B.results['Draw']+=1\n",
    "            \n",
    "        #rajouter int?\n",
    "        self.team_A.results['Goals']=  np.mean([ score[0] for score in simul_results])\n",
    "        self.team_A.results['Goals_Against']= np.mean([ score[1] for score in simul_results])\n",
    "        self.team_B.results['Goals']= np.mean([ score[1] for score in simul_results])\n",
    "        self.team_B.results['Goals_Against']= np.mean([ score[0] for score in simul_results])\n",
    "  \n",
    "    def __str__(self):\n",
    "        return (self.team_A.name + \" probability of winning is \" +str(100*self.results[0])+\" % \\n \" +\n",
    "        \"Probability of Draw is \"+str(100*self.results[1] )  +\"%\\n\"+\n",
    "        self.team_B.name + \" probabilty of winning is \" +str(100*self.results[2])+\" %  \")"
   ]
  },
  {
   "cell_type": "code",
   "execution_count": 8,
   "metadata": {},
   "outputs": [
    {
     "data": {
      "text/plain": [
       "(-0.053284382975286704, 0.5867956495884926)"
      ]
     },
     "execution_count": 8,
     "metadata": {},
     "output_type": "execute_result"
    }
   ],
   "source": [
    "#tests\n",
    "compute_XG_diff_mean_std(df_test,'Qatar','Senegal',bound=0.25)\n"
   ]
  },
  {
   "cell_type": "code",
   "execution_count": 9,
   "metadata": {},
   "outputs": [
    {
     "name": "stdout",
     "output_type": "stream",
     "text": [
      "Team Qatar: \n",
      " XG : 1.710144927536232 \n",
      " ELO Ranking : 1680 \n",
      " Current Results : {'Win': 0, 'Draw': 0, 'Loss': 0, 'Goals': 0, 'Goals_Against': 0, 'Points': 0}\n",
      "Team Ecuador: \n",
      " XG : 1.28 \n",
      " ELO Ranking : 1833 \n",
      " Current Results : {'Win': 0, 'Draw': 0, 'Loss': 0, 'Goals': 0, 'Goals_Against': 0, 'Points': 0}\n",
      "Team Ecuador: \n",
      " XG : 1.28 \n",
      " ELO Ranking : 1833 \n",
      " Current Results : {'Win': 1, 'Draw': 0, 'Loss': 0, 'Goals': 1.556, 'Goals_Against': 1.437, 'Points': 3}\n",
      "{'Win': 1, 'Draw': 0, 'Loss': 0, 'Goals': 1.556, 'Goals_Against': 1.437, 'Points': 3}\n"
     ]
    }
   ],
   "source": [
    "Qatar = Team('Qatar', df_test.loc[df_test['Team_A']=='Qatar','score_A'].mode()[0],df_test.loc[df_test['Team_A']=='Qatar','Rating_A'].mode()[0])\n",
    "Ecuador = Team('Ecuador', df_test.loc[df_test['Team_A']=='Ecuador','score_A'].mode()[0],df_test.loc[df_test['Team_A']=='Ecuador','Rating_A'].mode()[0])\n",
    "\n",
    "print(Qatar)\n",
    "print(Ecuador)\n",
    "m = Match(Qatar,Ecuador,df_test,True )#.simulate_match(10000)\n",
    "print(m.winner)\n",
    "print(m.winner.results)"
   ]
  },
  {
   "cell_type": "code",
   "execution_count": 10,
   "metadata": {},
   "outputs": [
    {
     "name": "stdout",
     "output_type": "stream",
     "text": [
      "Qatar probability of winning is 34.5 % \n",
      " Probability of Draw is 25.3%\n",
      "Ecuador probabilty of winning is 40.2 %  \n",
      "Team Qatar: \n",
      " XG : 1.710144927536232 \n",
      " ELO Ranking : 1680 \n",
      " Current Results : {'Win': 0, 'Draw': 0, 'Loss': 1, 'Goals': 1.437, 'Goals_Against': 1.556, 'Points': 0}\n",
      "Team Ecuador: \n",
      " XG : 1.28 \n",
      " ELO Ranking : 1833 \n",
      " Current Results : {'Win': 1, 'Draw': 0, 'Loss': 0, 'Goals': 1.556, 'Goals_Against': 1.437, 'Points': 3}\n"
     ]
    }
   ],
   "source": [
    "print(m)\n",
    "print(Qatar)\n",
    "print(Ecuador)"
   ]
  },
  {
   "cell_type": "code",
   "execution_count": 11,
   "metadata": {},
   "outputs": [],
   "source": [
    "# The winner of the group stage is obtained from\n",
    "# 1 - points\n",
    "# 2 - goal difference\n",
    "# 3 - goal scored\n",
    "# 4 - Random Sample      \n",
    "\n",
    "class Group_Stage:\n",
    "    def __init__(self, teams,dataframe):\n",
    "        self.first_qualified = None\n",
    "        self.second_qualified = None\n",
    "        self.teams = teams\n",
    "        self.reset()\n",
    "        self.play_group_stage(dataframe)\n",
    "    def reset(self):\n",
    "        for team in self.teams:\n",
    "            self.results = {\"Win\":0,\"Draw\":0,\"Loss\":0,\"Goals\":0,\"Goals_Against\":0,\"Points\":0}\n",
    "\n",
    "    def play_group_stage(self,dataframe):\n",
    "        [Match(self.teams[i], self.teams[j],dataframe, True,1000) for i in range(0, len(self.teams))  for j in range(i + 1, len(self.teams))]\n",
    "        #Sorting the teamns           \n",
    "        self.teams.sort(key= lambda elem : (elem.results['Points'],elem.results['Goals']-elem.results['Goals_Against'],elem.results['Goals'],\n",
    "                                            np.random.rand()) ,reverse=True)\n",
    "        self.first_qualified = self.teams[0]\n",
    "        self.second_qualified = self.teams[1]"
   ]
  },
  {
   "cell_type": "code",
   "execution_count": 24,
   "metadata": {},
   "outputs": [
    {
     "name": "stdout",
     "output_type": "stream",
     "text": [
      "Team Netherlands: \n",
      " XG : 2.230769230769231 \n",
      " ELO Ranking : 2040 \n",
      " Current Results : {'Win': 18, 'Draw': 0, 'Loss': 0, 'Goals': 2.679, 'Goals_Against': 1.04, 'Points': 54}\n"
     ]
    }
   ],
   "source": []
  },
  {
   "cell_type": "code",
   "execution_count": 16,
   "metadata": {},
   "outputs": [
    {
     "name": "stdout",
     "output_type": "stream",
     "text": [
      "Team Netherlands: \n",
      " XG : 2.230769230769231 \n",
      " ELO Ranking : 2040 \n",
      " Current Results : {'Win': 3, 'Draw': 0, 'Loss': 0, 'Goals': 2.931, 'Goals_Against': 0.873, 'Points': 9} \n",
      " Team Senegal: \n",
      " XG : 1.4285714285714286 \n",
      " ELO Ranking : 1687 \n",
      " Current Results : {'Win': 2, 'Draw': 0, 'Loss': 1, 'Goals': 0.873, 'Goals_Against': 2.931, 'Points': 6}\n"
     ]
    }
   ],
   "source": [
    "Qatar = Team('Qatar', df_test.loc[df_test['Team_A']=='Qatar','score_A'].mode()[0],\n",
    "             df_test.loc[df_test['Team_A']=='Qatar','Rating_A'].mode()[0])\n",
    "Ecuador = Team('Ecuador', df_test.loc[df_test['Team_A']=='Ecuador','score_A'].mode()[0],\n",
    "               df_test.loc[df_test['Team_A']=='Ecuador','Rating_A'].mode()[0])\n",
    "Netherlands = Team('Netherlands', df_test.loc[df_test['Team_A']=='Netherlands','score_A'].mode()[0],\n",
    "                   df_test.loc[df_test['Team_A']=='Netherlands','Rating_A'].mode()[0])\n",
    "Senegal = Team('Senegal', df_test.loc[df_test['Team_A']=='Senegal','score_A'].mode()[0],\n",
    "               df_test.loc[df_test['Team_A']=='Senegal','Rating_A'].mode()[0])\n",
    "\n",
    "\n",
    "\n",
    "Group_A =Group_Stage([Qatar,Ecuador,Netherlands,Senegal],df_test)\n",
    "print(Group_A.first_qualified,'\\n', Group_A.second_qualified)"
   ]
  },
  {
   "cell_type": "code",
   "execution_count": 18,
   "metadata": {},
   "outputs": [
    {
     "name": "stdout",
     "output_type": "stream",
     "text": [
      "Netherlands probability of winning is 62.4 % \n",
      " Probability of Draw is 19.8%\n",
      "Senegal probabilty of winning is 17.8 %  \n",
      "Team Netherlands: \n",
      " XG : 2.230769230769231 \n",
      " ELO Ranking : 2040 \n",
      " Current Results : {'Win': 5, 'Draw': 0, 'Loss': 0, 'Goals': 2.378, 'Goals_Against': 1.279, 'Points': 9}\n"
     ]
    }
   ],
   "source": [
    "m_elimination = Match(Netherlands,Senegal,df_test,False)\n",
    "print(m_elimination)\n",
    "print(m_elimination.winner)"
   ]
  },
  {
   "cell_type": "code",
   "execution_count": 25,
   "metadata": {},
   "outputs": [],
   "source": [
    "#Integrer calculmean_std dans match\n",
    "class Tournament :\n",
    "    def __init__(self,dataframe,groups_list):\n",
    "        #dictionary {team_name str : team Team Object}\n",
    "        self.all_teams = { team : Team(team, dataframe.loc[dataframe['Team_A']==team,'score_A'].mode()[0],\n",
    "         dataframe.loc[dataframe['Team_A']==team,'Rating_A'].mode()[0] ) for team in dataframe['Team_A'].unique()}\n",
    "        self.groups = groups_list\n",
    "        self.data = dataframe\n",
    "\n",
    "    def simul_one_tournament(self,winners):\n",
    "        # Play round robin\n",
    "        #Simulate all Group stages\n",
    "        Groups =[Group_Stage([ self.all_teams[teams_group] for teams_group in group],self.data) for group in self.groups]\n",
    "\n",
    "        # Play final elimination  phase \n",
    "           \n",
    "        huitiemes = [(Match(Groups[2*i].first_qualified,Groups[2*i+1].second_qualified,\n",
    "                                self.data,\n",
    "                                False ,1000),\n",
    "                          Match(Groups[2*i].second_qualified,Groups[2*i+1].first_qualified,self.data ,False,1000))\n",
    "                         for i in range(int(len(self.groups)/2))]\n",
    "             # Quarters\n",
    "\n",
    "        quarters = [Match(quart_finalist[0].winner,quart_finalist[1].winner,self.data,False ) for quart_finalist in huitiemes ]\n",
    "           \n",
    "            # Semifinals\n",
    "        semis = [Match(quarters[2*i].winner,quarters[2*i+1].winner,self.data,False,1000 ) for i in range(2)]\n",
    "            # Final\n",
    "        winner_final = Match(semis[0].winner ,semis[1].winner,self.data, False,1000)\n",
    "        winner =winner_final.winner\n",
    "\n",
    "        if winner.name in winners.keys():\n",
    "            winners[winner.name] += 1\n",
    "        else:\n",
    "            winners[winner.name] = 1\n",
    "            \n",
    "    def main(self,n=10):\n",
    "        winners ={}\n",
    "        [self.simul_one_tournament(winners) for i in range(n)]\n",
    "        for key in sorted(winners, key=winners.get, reverse=True):\n",
    "            print (key + \": \" + str(winners[key]))\n",
    "        return(winners)"
   ]
  },
  {
   "cell_type": "code",
   "execution_count": 26,
   "metadata": {},
   "outputs": [],
   "source": [
    "t = Tournament(df_test,[\n",
    "              ['Qatar','Netherlands' ,'Senegal','Ecuador'],\n",
    "              ['England','United States','Iran','Wales'],\n",
    "              ['Argentina','Poland','Mexico','Saudi Arabia'],\n",
    "              ['France','Denmark','Tunisia','Australia'],\n",
    "              ['Spain','Japan','Germany','Costa Rica'],\n",
    "              ['Belgium','Croatia','Morocco','Canada'],\n",
    "              ['Brazil','Switzerland','Serbia','Cameroon'],\n",
    "              ['Portugal','Uruguay','South Korea','Ghana']])"
   ]
  },
  {
   "cell_type": "code",
   "execution_count": 27,
   "metadata": {},
   "outputs": [
    {
     "name": "stdout",
     "output_type": "stream",
     "text": [
      "Brazil: 32\n",
      "Belgium: 19\n",
      "Netherlands: 18\n",
      "Argentina: 10\n",
      "England: 7\n",
      "France: 4\n",
      "Spain: 4\n",
      "Canada: 2\n",
      "Germany: 2\n",
      "Portugal: 1\n",
      "Denmark: 1\n",
      "--- 31.415807485580444 seconds ---\n"
     ]
    }
   ],
   "source": [
    "start_time = time.time()\n",
    "res = t.main(100)\n",
    "\n",
    "print(\"--- %s seconds ---\" % (time.time() - start_time))\n"
   ]
  },
  {
   "cell_type": "code",
   "execution_count": 30,
   "metadata": {},
   "outputs": [],
   "source": [
    "df_res = pd.DataFrame(res,index=[1]).transpose().reset_index()\n",
    "df_res.columns = ['country','Wins']"
   ]
  },
  {
   "cell_type": "code",
   "execution_count": 31,
   "metadata": {},
   "outputs": [
    {
     "data": {
      "image/png": "[encoded data removed]",
      "text/plain": [
       "<Figure size 432x288 with 1 Axes>"
      ]
     },
     "metadata": {
      "needs_background": "light"
     },
     "output_type": "display_data"
    }
   ],
   "source": [
    "plt.figure()\n",
    "sns.barplot(y='country',x='Wins',data=df_res.sort_values('Wins',ascending=False) )\n",
    "plt.title(\"World Cup Simulator Result\");"
   ]
  }
 ],
 "metadata": {
  "kernelspec": {
   "display_name": "Python 3",
   "language": "python",
   "name": "python3"
  },
  "language_info": {
   "codemirror_mode": {
    "name": "ipython",
    "version": 3
   },
   "file_extension": ".py",
   "mimetype": "text/x-python",
   "name": "python",
   "nbconvert_exporter": "python",
   "pygments_lexer": "ipython3",
   "version": "3.7.1"
  }
 },
 "nbformat": 4,
 "nbformat_minor": 2
}
